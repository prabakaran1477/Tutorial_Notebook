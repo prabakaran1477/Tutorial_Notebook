{
 "cells": [
  {
   "cell_type": "code",
   "execution_count": 1,
   "metadata": {},
   "outputs": [
    {
     "name": "stdout",
     "output_type": "stream",
     "text": [
      "Sun Oct 27 09:39:02 2019       \n",
      "+-----------------------------------------------------------------------------+\n",
      "| NVIDIA-SMI 410.104      Driver Version: 410.104      CUDA Version: 10.0     |\n",
      "|-------------------------------+----------------------+----------------------+\n",
      "| GPU  Name        Persistence-M| Bus-Id        Disp.A | Volatile Uncorr. ECC |\n",
      "| Fan  Temp  Perf  Pwr:Usage/Cap|         Memory-Usage | GPU-Util  Compute M. |\n",
      "|===============================+======================+======================|\n",
      "|   0  Tesla T4            Off  | 00000000:00:04.0 Off |                    0 |\n",
      "| N/A   74C    P0    31W /  70W |      0MiB / 15079MiB |      0%      Default |\n",
      "+-------------------------------+----------------------+----------------------+\n",
      "                                                                               \n",
      "+-----------------------------------------------------------------------------+\n",
      "| Processes:                                                       GPU Memory |\n",
      "|  GPU       PID   Type   Process name                             Usage      |\n",
      "|=============================================================================|\n",
      "|  No running processes found                                                 |\n",
      "+-----------------------------------------------------------------------------+\n"
     ]
    }
   ],
   "source": [
    "!nvidia-smi"
   ]
  },
  {
   "cell_type": "code",
   "execution_count": 2,
   "metadata": {},
   "outputs": [
    {
     "name": "stdout",
     "output_type": "stream",
     "text": [
      "Requirement already satisfied: contractions in /usr/local/lib/python3.5/dist-packages\n",
      "Requirement already satisfied: textsearch in /usr/local/lib/python3.5/dist-packages\n",
      "Requirement already satisfied: Unidecode in /usr/local/lib/python3.5/dist-packages (from textsearch)\n",
      "Requirement already satisfied: pyahocorasick in /usr/local/lib/python3.5/dist-packages (from textsearch)\n",
      "Requirement already satisfied: tqdm in /usr/local/lib/python3.5/dist-packages\n",
      "Requirement already satisfied: nltk in /usr/local/lib/python3.5/dist-packages\n",
      "Requirement already satisfied: six in /usr/local/lib/python3.5/dist-packages (from nltk)\n",
      "Requirement already satisfied: beautifulsoup4 in /usr/local/lib/python3.5/dist-packages\n",
      "Requirement already satisfied: soupsieve>=1.2 in /usr/local/lib/python3.5/dist-packages (from beautifulsoup4)\n"
     ]
    },
    {
     "name": "stderr",
     "output_type": "stream",
     "text": [
      "[nltk_data] Downloading package punkt to /home/jupyter/nltk_data...\n",
      "[nltk_data]   Package punkt is already up-to-date!\n"
     ]
    },
    {
     "data": {
      "text/plain": [
       "True"
      ]
     },
     "execution_count": 2,
     "metadata": {},
     "output_type": "execute_result"
    }
   ],
   "source": [
    "!sudo pip3 install contractions\n",
    "!sudo pip3 install textsearch\n",
    "!sudo pip3 install tqdm\n",
    "!sudo pip3 install nltk\n",
    "!sudo pip3 install beautifulsoup4\n",
    "import nltk\n",
    "nltk.download('punkt')"
   ]
  },
  {
   "cell_type": "code",
   "execution_count": 3,
   "metadata": {},
   "outputs": [
    {
     "name": "stdout",
     "output_type": "stream",
     "text": [
      "TF Version:  2.0.0\n",
      "Eager mode:  True\n",
      "TF Hub version:  0.6.0\n",
      "GPU is available\n"
     ]
    }
   ],
   "source": [
    "import numpy as np\n",
    "import pandas as pd\n",
    "import tensorflow as tf\n",
    "import tensorflow_hub as hub\n",
    "import matplotlib.pyplot as plt\n",
    "\n",
    "%matplotlib inline\n",
    "\n",
    "# fix random seed for reproducibility\n",
    "seed = 42\n",
    "np.random.seed(seed)\n",
    "tf.random.set_seed(seed)\n",
    "\n",
    "print(\"TF Version: \", tf.__version__)\n",
    "print(\"Eager mode: \", tf.executing_eagerly())\n",
    "print(\"TF Hub version: \", hub.__version__)\n",
    "print(\"GPU is\", \"available\" if tf.test.is_gpu_available() else \"NOT AVAILABLE\")"
   ]
  },
  {
   "cell_type": "code",
   "execution_count": 4,
   "metadata": {},
   "outputs": [
    {
     "name": "stdout",
     "output_type": "stream",
     "text": [
      "<class 'pandas.core.frame.DataFrame'>\n",
      "RangeIndex: 50000 entries, 0 to 49999\n",
      "Data columns (total 2 columns):\n",
      "review       50000 non-null object\n",
      "sentiment    50000 non-null int64\n",
      "dtypes: int64(1), object(1)\n",
      "memory usage: 781.4+ KB\n"
     ]
    }
   ],
   "source": [
    "dataset = pd.read_csv(r'https://github.com/dipanjanS/nlp_workshop_dhs18/raw/master/Unit%2011%20-%20Sentiment%20Analysis%20-%20Unsupervised%20Learning/movie_reviews.csv.bz2', compression='bz2')\n",
    "dataset['sentiment'] = [1 if record == 'positive' else 0 for record in dataset['sentiment']]\n",
    "dataset.info()"
   ]
  },
  {
   "cell_type": "code",
   "execution_count": 5,
   "metadata": {},
   "outputs": [
    {
     "data": {
      "text/html": [
       "<div>\n",
       "<style scoped>\n",
       "    .dataframe tbody tr th:only-of-type {\n",
       "        vertical-align: middle;\n",
       "    }\n",
       "\n",
       "    .dataframe tbody tr th {\n",
       "        vertical-align: top;\n",
       "    }\n",
       "\n",
       "    .dataframe thead th {\n",
       "        text-align: right;\n",
       "    }\n",
       "</style>\n",
       "<table border=\"1\" class=\"dataframe\">\n",
       "  <thead>\n",
       "    <tr style=\"text-align: right;\">\n",
       "      <th></th>\n",
       "      <th>review</th>\n",
       "      <th>sentiment</th>\n",
       "    </tr>\n",
       "  </thead>\n",
       "  <tbody>\n",
       "    <tr>\n",
       "      <td>0</td>\n",
       "      <td>One of the other reviewers has mentioned that ...</td>\n",
       "      <td>1</td>\n",
       "    </tr>\n",
       "    <tr>\n",
       "      <td>1</td>\n",
       "      <td>A wonderful little production. &lt;br /&gt;&lt;br /&gt;The...</td>\n",
       "      <td>1</td>\n",
       "    </tr>\n",
       "    <tr>\n",
       "      <td>2</td>\n",
       "      <td>I thought this was a wonderful way to spend ti...</td>\n",
       "      <td>1</td>\n",
       "    </tr>\n",
       "    <tr>\n",
       "      <td>3</td>\n",
       "      <td>Basically there's a family where a little boy ...</td>\n",
       "      <td>0</td>\n",
       "    </tr>\n",
       "    <tr>\n",
       "      <td>4</td>\n",
       "      <td>Petter Mattei's \"Love in the Time of Money\" is...</td>\n",
       "      <td>1</td>\n",
       "    </tr>\n",
       "  </tbody>\n",
       "</table>\n",
       "</div>"
      ],
      "text/plain": [
       "                                              review  sentiment\n",
       "0  One of the other reviewers has mentioned that ...          1\n",
       "1  A wonderful little production. <br /><br />The...          1\n",
       "2  I thought this was a wonderful way to spend ti...          1\n",
       "3  Basically there's a family where a little boy ...          0\n",
       "4  Petter Mattei's \"Love in the Time of Money\" is...          1"
      ]
     },
     "execution_count": 5,
     "metadata": {},
     "output_type": "execute_result"
    }
   ],
   "source": [
    "dataset.head()"
   ]
  },
  {
   "cell_type": "code",
   "execution_count": 6,
   "metadata": {},
   "outputs": [
    {
     "data": {
      "text/plain": [
       "((5000,), (5000,), (40000,))"
      ]
     },
     "execution_count": 6,
     "metadata": {},
     "output_type": "execute_result"
    }
   ],
   "source": [
    "reviews = dataset['review'].values\n",
    "sentiments = dataset['sentiment'].values\n",
    "\n",
    "train_reviews = reviews[:5000]\n",
    "val_reviews = reviews[5000:10000]\n",
    "test_reviews = reviews[10000:]\n",
    "\n",
    "\n",
    "\n",
    "train_sentiments = sentiments[:5000]\n",
    "val_sentiments = sentiments[5000:10000]\n",
    "test_sentiments = sentiments[10000:]\n",
    "\n",
    "train_reviews.shape, val_reviews.shape, test_reviews.shape"
   ]
  },
  {
   "cell_type": "code",
   "execution_count": 7,
   "metadata": {},
   "outputs": [],
   "source": [
    "import contractions\n",
    "from bs4 import BeautifulSoup\n",
    "import numpy as np\n",
    "import re\n",
    "import tqdm\n",
    "import unicodedata\n",
    "\n",
    "\n",
    "def strip_html_tags(text):\n",
    "    soup = BeautifulSoup(text, \"html.parser\")\n",
    "    [s.extract() for s in soup(['iframe', 'script'])]\n",
    "    stripped_text = soup.get_text()\n",
    "    stripped_text = re.sub(r'[\\r|\\n|\\r\\n]+', '\\n', stripped_text)\n",
    "    return stripped_text\n",
    "\n",
    "def remove_accented_chars(text):\n",
    "    text = unicodedata.normalize('NFKD', text).encode('ascii', 'ignore').decode('utf-8', 'ignore')\n",
    "    return text\n",
    "\n",
    "def pre_process_corpus(docs):\n",
    "    norm_docs = []\n",
    "    for doc in tqdm.tqdm(docs):\n",
    "        doc = strip_html_tags(doc)\n",
    "        doc = doc.translate(doc.maketrans(\"\\n\\t\\r\", \"   \"))\n",
    "        doc = doc.lower()\n",
    "        doc = remove_accented_chars(doc)\n",
    "        doc = contractions.fix(doc)\n",
    "        # lower case and remove special characters\\whitespaces\n",
    "        doc = re.sub(r'[^a-zA-Z0-9\\s]', ' ', doc, re.I|re.A)\n",
    "        doc = re.sub(' +', ' ', doc)\n",
    "        doc = doc.strip()  \n",
    "        norm_docs.append(doc)\n",
    "    return norm_docs"
   ]
  },
  {
   "cell_type": "code",
   "execution_count": 8,
   "metadata": {},
   "outputs": [
    {
     "name": "stderr",
     "output_type": "stream",
     "text": [
      "100%|██████████| 5000/5000 [00:02<00:00, 2077.29it/s]\n",
      "100%|██████████| 5000/5000 [00:02<00:00, 2075.03it/s]\n",
      "100%|██████████| 40000/40000 [00:19<00:00, 2070.11it/s]"
     ]
    },
    {
     "name": "stdout",
     "output_type": "stream",
     "text": [
      "CPU times: user 24.1 s, sys: 172 ms, total: 24.3 s\n",
      "Wall time: 24.1 s\n"
     ]
    },
    {
     "name": "stderr",
     "output_type": "stream",
     "text": [
      "\n"
     ]
    }
   ],
   "source": [
    "%%time\n",
    "\n",
    "norm_train_texts = pre_process_corpus(train_reviews)\n",
    "norm_val_texts = pre_process_corpus(val_reviews)\n",
    "norm_test_texts = pre_process_corpus(test_reviews)"
   ]
  },
  {
   "cell_type": "code",
   "execution_count": 9,
   "metadata": {},
   "outputs": [],
   "source": [
    "norm_train_texts = np.array(norm_train_texts)\n",
    "norm_val_texts = np.array(norm_val_texts)\n",
    "norm_test_texts = np.array(norm_test_texts)"
   ]
  },
  {
   "cell_type": "code",
   "execution_count": 10,
   "metadata": {},
   "outputs": [
    {
     "data": {
      "text/plain": [
       "array(['one of the other reviewers has mentioned that after watching just 1 oz episode you will be hooked they are right as this is exactly what happened with me the first thing that struck me about oz was its brutality and unflinching scenes of violence which set in right from the word go trust me this is not a show for the faint hearted or timid this show pulls no punches with regards to drugs sex or violence its is hardcore in the classic use of the word it is called oz as that is the nickname given to the oswald maximum security state penitentary it focuses mainly on emerald city an experimental section of the prison where all the cells have glass fronts and face inwards so privacy is not high on the agenda em city is home to many aryans muslims gangstas latinos christians italians irish and more so scuffles death stares dodgy dealings and shady agreements are never far away i would say the main appeal of the show is due to the fact that it goes where other shows would not dare forget pretty pictures painted for mainstream audiences forget charm forget romance oz does not mess around the first episode i ever saw struck me as so nasty it was surreal i could not say i was ready for it but as i watched more i developed a taste for oz and got accustomed to the high levels of graphic violence not just violence but injustice crooked guards who will be sold out for a nickel inmates who will kill on order and get away with it well mannered middle class inmates being turned into prison bitches due to their lack of street skills or prison experience watching oz you may become comfortable with what is uncomfortable viewing that is if you can get in touch with your darker side',\n",
       "       'a wonderful little production the filming technique is very unassuming very old time bbc fashion and gives a comforting and sometimes discomforting sense of realism to the entire piece the actors are extremely well chosen michael sheen not only has got all the polari but he has all the voices down pat too you can truly see the seamless editing guided by the references to williams diary entries not only is it well worth the watching but it is a terrificly written and performed piece a masterful production about one of the great master s of comedy and his life the realism really comes home with the little things the fantasy of the guard which rather than use the traditional dream techniques remains solid then disappears it plays on our knowledge and our senses particularly with the scenes concerning orton and halliwell and the sets particularly of their flat with halliwell s murals decorating every surface are terribly well done',\n",
       "       'i thought this was a wonderful way to spend time on a too hot summer weekend sitting in the air conditioned theater and watching a light hearted comedy the plot is simplistic but the dialogue is witty and the characters are likable even the well bread suspected serial killer while some may be disappointed when they realize this is not match point 2 risk addiction i thought it was proof that woody allen is still fully in control of the style many of us have grown to love this was the most I would laughed at one of woody s comedies in years dare i say a decade while I have never been impressed with scarlet johanson in this she managed to tone down her sexy image and jumped right into a average but spirited young woman this may not be the crown jewel of his career but it was wittier than devil wears prada and more interesting than superman a great comedy to go see with friends'],\n",
       "      dtype='<U9618')"
      ]
     },
     "execution_count": 10,
     "metadata": {},
     "output_type": "execute_result"
    }
   ],
   "source": [
    "norm_train_texts[:3]"
   ]
  },
  {
   "cell_type": "code",
   "execution_count": 11,
   "metadata": {},
   "outputs": [
    {
     "name": "stdout",
     "output_type": "stream",
     "text": [
      "tf.Tensor(\n",
      "[[ 2.1637728   0.18443683  0.33868548  0.18714745  0.22127508  0.03885808\n",
      "   0.20959312 -0.31841168 -0.2998969   0.06570792  0.29815578 -0.36403018\n",
      "  -0.36856505 -0.36688802 -0.15620337  0.12879042 -0.5279176  -0.05068737\n",
      "  -0.5405576   1.0036108   0.0983031   0.13588336 -0.24809034 -0.25477773\n",
      "   0.10724348 -0.25031033  0.2962077  -0.00750021 -0.20377205  0.14243263\n",
      "   0.07617488  0.1518155   0.17101593  0.02466883  0.36238325 -0.12907393\n",
      "  -0.24922621 -0.41444957  0.10826241  0.50078815 -0.4214459  -0.1228352\n",
      "  -0.12632468 -0.10329366  0.22902705  0.31700385  0.08330556  0.16459242\n",
      "  -0.08031587  0.02723667  0.11583095  0.03190616 -0.06533278  0.31237805\n",
      "  -0.24900854 -0.0130042   0.06682863 -0.26658732 -0.06602515  0.04475337\n",
      "  -0.5149443   0.17992204  0.05797209 -0.40984443 -0.01934146  0.15096185\n",
      "   0.17236525 -0.46626076  0.32511476 -0.0269111  -0.45234472  0.2429736\n",
      "   0.00959222 -0.1835455  -0.10930699  0.40188032 -0.01052749 -0.5940521\n",
      "  -0.18280017  0.141591    0.16615877  0.15467095 -0.14106485 -0.12753089\n",
      "  -0.06262082 -0.14603473 -0.8397171   0.19951956  1.6565722   1.1313871\n",
      "  -0.3471329   0.26448208  0.10092211 -0.545333    0.35857537  0.2917645\n",
      "   0.11254636 -0.05550697 -0.2261571   0.0494837   0.17192666  0.09162638\n",
      "   0.45759222  0.29179785  0.07908098 -0.01726583 -0.1296533   0.06240316\n",
      "  -0.50208557  0.07966501 -0.80132145 -0.24441777 -0.23948367 -0.24721608\n",
      "  -0.03435831 -0.38683075  0.01933963 -0.15213321  0.0774134  -0.01337982\n",
      "   0.2442107  -0.41657832  0.10061568  0.37444338 -0.21662216 -0.64127094\n",
      "   0.09093904  0.06515765]\n",
      " [ 1.7351407   0.10003392  0.1915585   0.49007574 -0.08463781  0.09841594\n",
      "   0.1808318  -0.3819196  -0.02648161  0.48302346  0.15660664 -0.45267746\n",
      "  -0.25394756 -0.24708892 -0.46058625  0.05727618 -0.27811205  0.10649985\n",
      "  -0.24354932  1.1866826   0.3040196   0.07156588 -0.06977837 -0.02990006\n",
      "   0.08949643 -0.36456534  0.20450756  0.11035044  0.2212384   0.11474222\n",
      "  -0.04687279  0.0335348   0.1525425  -0.02092151  0.3287344  -0.0800892\n",
      "  -0.17725646 -0.251049   -0.14190261  0.3951207  -0.3976044  -0.223315\n",
      "  -0.20907772  0.04188159  0.19431557  0.1485281   0.1107307  -0.22648151\n",
      "  -0.04922395  0.03440604  0.19966012 -0.05004436  0.04048853  0.2943272\n",
      "  -0.12488018 -0.11196467  0.02585526 -0.19267695  0.20092212  0.08096909\n",
      "  -0.09591075  0.24022481  0.18242596 -0.06824074 -0.16018133 -0.01036018\n",
      "  -0.04460191 -0.4435669   0.44781083  0.09649809 -0.39470112 -0.17007072\n",
      "   0.13452484 -0.23210776  0.10362966  0.3641735  -0.19100985 -0.4035895\n",
      "  -0.07844286 -0.06280517  0.02649312  0.04787385 -0.03129633 -0.06223124\n",
      "   0.14670719  0.01107453 -0.59076154  0.2558984   1.0321764   0.8678974\n",
      "   0.19645293  0.21303871 -0.08423961 -0.2888379   0.11400612  0.03422584\n",
      "  -0.01001112 -0.135413    0.18174505 -0.01154336  0.01436818  0.15453494\n",
      "   0.5062567   0.27415422  0.07197572 -0.20250922 -0.01344878  0.05419504\n",
      "  -0.17914422  0.09977984 -0.36362442 -0.11620139 -0.4007561  -0.04402293\n",
      "  -0.04054508 -0.24681854  0.04913602 -0.3174214   0.12289315  0.03864868\n",
      "   0.21280783 -0.3541398  -0.0554394  -0.0923731  -0.20474893 -0.65271074\n",
      "  -0.01335614  0.04072322]\n",
      " [ 1.7187092   0.04183307  0.13475959  0.24088086  0.18152043 -0.03629657\n",
      "   0.13490458 -0.22412792 -0.15876861  0.07803905  0.10109257 -0.57560533\n",
      "  -0.34674016 -0.38226756 -0.13711318 -0.01129237 -0.18427247 -0.08915162\n",
      "  -0.31258243  0.8331411   0.07807884  0.2110558  -0.05365746 -0.13163623\n",
      "   0.07066654 -0.36943543  0.35588515 -0.12171693 -0.11011185 -0.2651853\n",
      "  -0.00228241  0.22609432  0.11810645  0.1226142   0.36344904 -0.16712087\n",
      "  -0.22332701 -0.34215608 -0.11642135  0.54349065 -0.3821277   0.01810263\n",
      "  -0.13889156 -0.05849734  0.3345192   0.35088518  0.02135643 -0.02247549\n",
      "  -0.04013713  0.19903947  0.23625407 -0.10680936 -0.21441557  0.30561325\n",
      "  -0.10390188  0.01823098  0.10638773 -0.15893023  0.03796651 -0.03491562\n",
      "  -0.29078218  0.11266296  0.11292716 -0.21835598  0.00375994 -0.00521514\n",
      "  -0.05302407 -0.38539842  0.27573475  0.04146305 -0.21293616  0.09334966\n",
      "   0.05562874 -0.01732756 -0.09311745  0.17320979 -0.2631685  -0.2797788\n",
      "  -0.15509696  0.14254038 -0.03105348  0.0403795  -0.18549336 -0.07312401\n",
      "   0.02940998 -0.06967624 -0.627618    0.15615796  1.1515613   0.91399044\n",
      "  -0.10523495  0.15196241 -0.02262926 -0.28642225  0.21656889  0.21658117\n",
      "   0.3277627  -0.16722025  0.14516205 -0.04196355  0.04427443  0.03375613\n",
      "   0.47096226  0.16133323  0.1821723  -0.31868672  0.04817499  0.03032742\n",
      "  -0.31242862  0.10673612 -0.39982492 -0.13501644 -0.31915137 -0.1973198\n",
      "  -0.12898871 -0.35809973  0.09207707  0.02897917 -0.0129803   0.10543679\n",
      "   0.15012355 -0.201091   -0.06713878  0.11541814 -0.22703484 -0.30610567\n",
      "   0.1817144  -0.05691894]], shape=(3, 128), dtype=float32)\n"
     ]
    }
   ],
   "source": [
    "model = \"https://tfhub.dev/google/tf2-preview/nnlm-en-dim128/1\"\n",
    "hub_layer = hub.KerasLayer(model, output_shape=[128], input_shape=[], \n",
    "                           dtype=tf.string, trainable=True)\n",
    "print(hub_layer(norm_train_texts[:3]))"
   ]
  },
  {
   "cell_type": "code",
   "execution_count": 12,
   "metadata": {},
   "outputs": [
    {
     "name": "stdout",
     "output_type": "stream",
     "text": [
      "Model: \"sequential\"\n",
      "_________________________________________________________________\n",
      "Layer (type)                 Output Shape              Param #   \n",
      "=================================================================\n",
      "keras_layer (KerasLayer)     (None, 128)               124642688 \n",
      "_________________________________________________________________\n",
      "dense (Dense)                (None, 128)               16512     \n",
      "_________________________________________________________________\n",
      "dropout (Dropout)            (None, 128)               0         \n",
      "_________________________________________________________________\n",
      "dense_1 (Dense)              (None, 128)               16512     \n",
      "_________________________________________________________________\n",
      "dropout_1 (Dropout)          (None, 128)               0         \n",
      "_________________________________________________________________\n",
      "dense_2 (Dense)              (None, 1)                 129       \n",
      "=================================================================\n",
      "Total params: 124,675,841\n",
      "Trainable params: 124,675,841\n",
      "Non-trainable params: 0\n",
      "_________________________________________________________________\n"
     ]
    }
   ],
   "source": [
    "model = tf.keras.models.Sequential()\n",
    "model.add(hub_layer)\n",
    "model.add(tf.keras.layers.Dense(128, activation='relu'))\n",
    "model.add(tf.keras.layers.Dropout(0.15))\n",
    "model.add(tf.keras.layers.Dense(128, activation='relu'))\n",
    "model.add(tf.keras.layers.Dropout(0.15))\n",
    "model.add(tf.keras.layers.Dense(1, activation='sigmoid'))\n",
    "\n",
    "model.compile(loss='binary_crossentropy', optimizer='adagrad', metrics=['accuracy'])\n",
    "model.summary()"
   ]
  },
  {
   "cell_type": "code",
   "execution_count": 13,
   "metadata": {},
   "outputs": [],
   "source": [
    "EPOCHS=100\n",
    "BATCH_SIZE=128"
   ]
  },
  {
   "cell_type": "code",
   "execution_count": 14,
   "metadata": {},
   "outputs": [
    {
     "name": "stdout",
     "output_type": "stream",
     "text": [
      "Train on 5000 samples, validate on 5000 samples\n",
      "Epoch 1/100\n",
      "5000/5000 [==============================] - 3s 581us/sample - loss: 0.6631 - accuracy: 0.6354 - val_loss: 0.6199 - val_accuracy: 0.7496\n",
      "Epoch 2/100\n",
      "5000/5000 [==============================] - 2s 328us/sample - loss: 0.5888 - accuracy: 0.7654 - val_loss: 0.5592 - val_accuracy: 0.7700\n",
      "Epoch 3/100\n",
      "5000/5000 [==============================] - 2s 328us/sample - loss: 0.5217 - accuracy: 0.8026 - val_loss: 0.5047 - val_accuracy: 0.7952\n",
      "Epoch 4/100\n",
      "5000/5000 [==============================] - 2s 329us/sample - loss: 0.4613 - accuracy: 0.8294 - val_loss: 0.4550 - val_accuracy: 0.8202\n",
      "Epoch 5/100\n",
      "5000/5000 [==============================] - 2s 331us/sample - loss: 0.4083 - accuracy: 0.8530 - val_loss: 0.4340 - val_accuracy: 0.8132\n",
      "Epoch 6/100\n",
      "5000/5000 [==============================] - 2s 327us/sample - loss: 0.3657 - accuracy: 0.8700 - val_loss: 0.3912 - val_accuracy: 0.8426\n",
      "Epoch 7/100\n",
      "5000/5000 [==============================] - 2s 335us/sample - loss: 0.3299 - accuracy: 0.8840 - val_loss: 0.3720 - val_accuracy: 0.8466\n",
      "Epoch 8/100\n",
      "5000/5000 [==============================] - 2s 331us/sample - loss: 0.3017 - accuracy: 0.8960 - val_loss: 0.3585 - val_accuracy: 0.8534\n",
      "Epoch 9/100\n",
      "5000/5000 [==============================] - 2s 330us/sample - loss: 0.2776 - accuracy: 0.9058 - val_loss: 0.3473 - val_accuracy: 0.8560\n",
      "Epoch 10/100\n",
      "5000/5000 [==============================] - 2s 332us/sample - loss: 0.2543 - accuracy: 0.9102 - val_loss: 0.3405 - val_accuracy: 0.8572\n",
      "Epoch 11/100\n",
      "5000/5000 [==============================] - 2s 338us/sample - loss: 0.2386 - accuracy: 0.9228 - val_loss: 0.3302 - val_accuracy: 0.8612\n",
      "Epoch 12/100\n",
      "5000/5000 [==============================] - 1s 234us/sample - loss: 0.2250 - accuracy: 0.9242 - val_loss: 0.3369 - val_accuracy: 0.8522\n",
      "Epoch 13/100\n",
      "5000/5000 [==============================] - 2s 332us/sample - loss: 0.2079 - accuracy: 0.9296 - val_loss: 0.3201 - val_accuracy: 0.8660\n",
      "Epoch 14/100\n",
      "5000/5000 [==============================] - 1s 235us/sample - loss: 0.1950 - accuracy: 0.9368 - val_loss: 0.3215 - val_accuracy: 0.8666\n",
      "Epoch 15/100\n",
      "5000/5000 [==============================] - 2s 329us/sample - loss: 0.1865 - accuracy: 0.9414 - val_loss: 0.3134 - val_accuracy: 0.8692\n",
      "Epoch 16/100\n",
      "5000/5000 [==============================] - 2s 330us/sample - loss: 0.1723 - accuracy: 0.9468 - val_loss: 0.3123 - val_accuracy: 0.8664\n",
      "Epoch 17/100\n",
      "5000/5000 [==============================] - 2s 330us/sample - loss: 0.1625 - accuracy: 0.9508 - val_loss: 0.3096 - val_accuracy: 0.8722\n",
      "Epoch 18/100\n",
      "5000/5000 [==============================] - 2s 329us/sample - loss: 0.1526 - accuracy: 0.9542 - val_loss: 0.3076 - val_accuracy: 0.8718\n",
      "Epoch 19/100\n",
      "5000/5000 [==============================] - 2s 329us/sample - loss: 0.1444 - accuracy: 0.9550 - val_loss: 0.3065 - val_accuracy: 0.8718\n",
      "Epoch 20/100\n",
      "5000/5000 [==============================] - 2s 328us/sample - loss: 0.1336 - accuracy: 0.9614 - val_loss: 0.3057 - val_accuracy: 0.8734\n",
      "Epoch 21/100\n",
      "5000/5000 [==============================] - 1s 230us/sample - loss: 0.1291 - accuracy: 0.9622 - val_loss: 0.3078 - val_accuracy: 0.8716\n",
      "Epoch 22/100\n",
      "5000/5000 [==============================] - 1s 230us/sample - loss: 0.1226 - accuracy: 0.9680 - val_loss: 0.3070 - val_accuracy: 0.8738\n",
      "Epoch 23/100\n",
      "4736/5000 [===========================>..] - ETA: 0s - loss: 0.1160 - accuracy: 0.9671Restoring model weights from the end of the best epoch.\n",
      "5000/5000 [==============================] - 1s 270us/sample - loss: 0.1164 - accuracy: 0.9670 - val_loss: 0.3107 - val_accuracy: 0.8710\n",
      "Epoch 00023: early stopping\n"
     ]
    },
    {
     "data": {
      "text/plain": [
       "<tensorflow.python.keras.callbacks.History at 0x7f67381bba58>"
      ]
     },
     "execution_count": 14,
     "metadata": {},
     "output_type": "execute_result"
    }
   ],
   "source": [
    "# Fit the model\n",
    "es = tf.keras.callbacks.EarlyStopping(monitor='val_loss', \n",
    "                                      patience=3,\n",
    "                                      restore_best_weights=True,\n",
    "                                      verbose=1)\n",
    "    \n",
    "model.fit(norm_train_texts, train_sentiments, \n",
    "          validation_data=(norm_val_texts, val_sentiments),\n",
    "          epochs=EPOCHS, \n",
    "          batch_size=BATCH_SIZE, \n",
    "          shuffle=True,\n",
    "          callbacks=[es],\n",
    "          verbose=1)"
   ]
  },
  {
   "cell_type": "code",
   "execution_count": 15,
   "metadata": {},
   "outputs": [
    {
     "name": "stdout",
     "output_type": "stream",
     "text": [
      "Accuracy: 86.52%\n",
      "             precision    recall  f1-score   support\n",
      "\n",
      "          0       0.87      0.86      0.86     20028\n",
      "          1       0.86      0.87      0.87     19972\n",
      "\n",
      "avg / total       0.87      0.87      0.87     40000\n",
      "\n"
     ]
    },
    {
     "data": {
      "text/html": [
       "<div>\n",
       "<style scoped>\n",
       "    .dataframe tbody tr th:only-of-type {\n",
       "        vertical-align: middle;\n",
       "    }\n",
       "\n",
       "    .dataframe tbody tr th {\n",
       "        vertical-align: top;\n",
       "    }\n",
       "\n",
       "    .dataframe thead th {\n",
       "        text-align: right;\n",
       "    }\n",
       "</style>\n",
       "<table border=\"1\" class=\"dataframe\">\n",
       "  <thead>\n",
       "    <tr style=\"text-align: right;\">\n",
       "      <th></th>\n",
       "      <th>0</th>\n",
       "      <th>1</th>\n",
       "    </tr>\n",
       "  </thead>\n",
       "  <tbody>\n",
       "    <tr>\n",
       "      <td>0</td>\n",
       "      <td>17201</td>\n",
       "      <td>2827</td>\n",
       "    </tr>\n",
       "    <tr>\n",
       "      <td>1</td>\n",
       "      <td>2567</td>\n",
       "      <td>17405</td>\n",
       "    </tr>\n",
       "  </tbody>\n",
       "</table>\n",
       "</div>"
      ],
      "text/plain": [
       "       0      1\n",
       "0  17201   2827\n",
       "1   2567  17405"
      ]
     },
     "execution_count": 15,
     "metadata": {},
     "output_type": "execute_result"
    }
   ],
   "source": [
    "from sklearn.metrics import confusion_matrix, classification_report, accuracy_score\n",
    "\n",
    "predictions = model.predict_classes(norm_test_texts, batch_size=512, verbose=0).ravel()\n",
    "\n",
    "print(\"Accuracy: %.2f%%\" % (accuracy_score(test_sentiments, predictions)*100))\n",
    "print(classification_report(test_sentiments, predictions))\n",
    "pd.DataFrame(confusion_matrix(test_sentiments, predictions))"
   ]
  },
  {
   "cell_type": "code",
   "execution_count": null,
   "metadata": {},
   "outputs": [],
   "source": []
  }
 ],
 "metadata": {
  "kernelspec": {
   "display_name": "Python 3",
   "language": "python",
   "name": "python3"
  },
  "language_info": {
   "codemirror_mode": {
    "name": "ipython",
    "version": 3
   },
   "file_extension": ".py",
   "mimetype": "text/x-python",
   "name": "python",
   "nbconvert_exporter": "python",
   "pygments_lexer": "ipython3",
   "version": "3.5.3"
  }
 },
 "nbformat": 4,
 "nbformat_minor": 4
}
